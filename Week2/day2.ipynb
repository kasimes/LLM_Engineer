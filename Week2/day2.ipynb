{
 "cells": [
  {
   "cell_type": "code",
   "execution_count": 4,
   "id": "a834cbb8",
   "metadata": {},
   "outputs": [],
   "source": [
    "import os\n",
    "import requests\n",
    "from bs4 import BeautifulSoup\n",
    "from typing import List\n",
    "from dotenv import load_dotenv\n",
    "import ollama\n"
   ]
  },
  {
   "cell_type": "code",
   "execution_count": 1,
   "id": "c704f34b",
   "metadata": {},
   "outputs": [],
   "source": [
    "import gradio as gr "
   ]
  },
  {
   "cell_type": "code",
   "execution_count": 2,
   "id": "c1bd0e23",
   "metadata": {},
   "outputs": [],
   "source": [
    "system_message=\"you are a helpful assistant\"\n",
    "\n"
   ]
  },
  {
   "cell_type": "code",
   "execution_count": null,
   "id": "cc6e4a06",
   "metadata": {},
   "outputs": [],
   "source": []
  },
  {
   "cell_type": "code",
   "execution_count": 8,
   "id": "048445a7",
   "metadata": {},
   "outputs": [],
   "source": [
    "def ask_llama(prompt: str, model: str = \"llama3.2\") -> str:\n",
    "    \"\"\"\n",
    "    Ollama üzerinde belirtilen modele prompt gönderir ve cevabı döndürür.\n",
    "    \"\"\"\n",
    "    response = ollama.chat(\n",
    "        model=model,\n",
    "        messages=[\n",
    "            {\"role\": \"user\", \"content\": prompt}\n",
    "        ]\n",
    "    )\n",
    "    return response[\"message\"][\"content\"]\n"
   ]
  },
  {
   "cell_type": "code",
   "execution_count": 9,
   "id": "ccec9f06",
   "metadata": {},
   "outputs": [
    {
     "data": {
      "text/plain": [
       "'Merhaba! Ben iyi bir gün geçirdim. Size nasıl olacağını bilmiyorum, ama size yardımda bulunmak için ne denli willing oluyorum. Ne yardımcı Olunabiliriz?'"
      ]
     },
     "execution_count": 9,
     "metadata": {},
     "output_type": "execute_result"
    }
   ],
   "source": [
    "ask_llama(\"Merhaba, nasılsın?\")"
   ]
  },
  {
   "cell_type": "code",
   "execution_count": 10,
   "id": "363fe8d0",
   "metadata": {},
   "outputs": [
    {
     "data": {
      "text/plain": [
       "\"Olduğunuz yaş ve experience göre değişmekle birlikte, bazı nedenler below listelenmiştir:\\n\\n1. **Beyin Fazlası**: Beyin ouruhunda olduğu zamanda, beyinde artan aktivite nedeniyle aging hissi yaşayabilirsiniz.\\n\\n2. **Stres**: Stres ve hüzün, ageing hissini artırabilir.\\n\\n3. **Yemek ve Saç Götürücülerine Duyarlık**: Saç götürücü ve bazı yiyecekler (örneğin, şekerli içecekler) tarafından oluşturulan hormonlar, aging hissi verebilir.\\n\\n4. **Uykusuzluk**: Uyku eksikliği veya kalıcı uykunズluk, aging hissi artırabilir.\\n\\n5. **Yıkımlar ve Hastalıklar**: Vücutta occurring yıkımlar ve bazı hastalıklar aging hissi verebilir.\\n\\n6. **Sürprüme**: Bazı people's için, yaşıing hissini geçer gibi hissedebilirdir.\\n\\n7. **Genetik**: Certain family history ve genetics, ageing hissi oluşmasına yol açabilir.\\n\\n8. **Emotional Düzen**: Negatif emotions ve duygusal dengesizlik, aging hissi artırabilir.\\n\\n9. **Kan Şekerleri**: Düşük kan şekerleri veya şeker hastalığı aging hissi verebilir.\\n\\n10. **Hormon Değişikliği**: Hormon değişiklikleri (örneğin, menopauza) aging hissi verebilir.\\n\\nAging hissini yaşamak, çeşitli nedenlere bağlı olabilir ve her einzeli personelin deneyimleri farklıdır. Bu listede yer alan nedenlerin bazılarını kontrol edebilir veya tedavi edilebilir.\""
      ]
     },
     "execution_count": 10,
     "metadata": {},
     "output_type": "execute_result"
    }
   ],
   "source": [
    "ask_llama(\"neden kendimi yaşlı hissediyorum?\")"
   ]
  },
  {
   "cell_type": "markdown",
   "id": "00665111",
   "metadata": {},
   "source": [
    "User Interface Time"
   ]
  },
  {
   "cell_type": "code",
   "execution_count": null,
   "id": "d2f62520",
   "metadata": {},
   "outputs": [],
   "source": [
    "def shouter(text):\n",
    "\n",
    "    return text.upper()"
   ]
  },
  {
   "cell_type": "code",
   "execution_count": 13,
   "id": "dda8de21",
   "metadata": {},
   "outputs": [
    {
     "data": {
      "text/plain": [
       "'HELLO WORLD'"
      ]
     },
     "execution_count": 13,
     "metadata": {},
     "output_type": "execute_result"
    }
   ],
   "source": [
    "shouter(\"hello world\")"
   ]
  },
  {
   "cell_type": "code",
   "execution_count": 14,
   "id": "41a26ba2",
   "metadata": {},
   "outputs": [
    {
     "name": "stdout",
     "output_type": "stream",
     "text": [
      "* Running on local URL:  http://127.0.0.1:7860\n",
      "* To create a public link, set `share=True` in `launch()`.\n"
     ]
    },
    {
     "data": {
      "text/html": [
       "<div><iframe src=\"http://127.0.0.1:7860/\" width=\"100%\" height=\"500\" allow=\"autoplay; camera; microphone; clipboard-read; clipboard-write;\" frameborder=\"0\" allowfullscreen></iframe></div>"
      ],
      "text/plain": [
       "<IPython.core.display.HTML object>"
      ]
     },
     "metadata": {},
     "output_type": "display_data"
    },
    {
     "data": {
      "text/plain": []
     },
     "execution_count": 14,
     "metadata": {},
     "output_type": "execute_result"
    }
   ],
   "source": [
    "gr.Interface(fn=shouter, inputs=\"textbox\", outputs=\"textbox\").launch()"
   ]
  },
  {
   "cell_type": "code",
   "execution_count": 18,
   "id": "002fe939",
   "metadata": {},
   "outputs": [
    {
     "name": "stdout",
     "output_type": "stream",
     "text": [
      "* Running on local URL:  http://127.0.0.1:7861\n",
      "\n",
      "Could not create share link. Please check your internet connection or our status page: https://status.gradio.app.\n"
     ]
    },
    {
     "data": {
      "text/html": [
       "<div><iframe src=\"http://127.0.0.1:7861/\" width=\"100%\" height=\"500\" allow=\"autoplay; camera; microphone; clipboard-read; clipboard-write;\" frameborder=\"0\" allowfullscreen></iframe></div>"
      ],
      "text/plain": [
       "<IPython.core.display.HTML object>"
      ]
     },
     "metadata": {},
     "output_type": "display_data"
    },
    {
     "data": {
      "text/plain": []
     },
     "execution_count": 18,
     "metadata": {},
     "output_type": "execute_result"
    },
    {
     "name": "stdout",
     "output_type": "stream",
     "text": [
      "Created dataset file at: .gradio\\flagged\\dataset1.csv\n"
     ]
    }
   ],
   "source": [
    "gr.Interface(fn=shouter, inputs=\"textbox\", outputs=\"textbox\",flagging_mode=\"never\").launch(share=True)"
   ]
  },
  {
   "cell_type": "code",
   "execution_count": 19,
   "id": "168b047a",
   "metadata": {},
   "outputs": [
    {
     "name": "stdout",
     "output_type": "stream",
     "text": [
      "* Running on local URL:  http://127.0.0.1:7862\n",
      "* To create a public link, set `share=True` in `launch()`.\n"
     ]
    },
    {
     "data": {
      "text/html": [
       "<div><iframe src=\"http://127.0.0.1:7862/\" width=\"100%\" height=\"500\" allow=\"autoplay; camera; microphone; clipboard-read; clipboard-write;\" frameborder=\"0\" allowfullscreen></iframe></div>"
      ],
      "text/plain": [
       "<IPython.core.display.HTML object>"
      ]
     },
     "metadata": {},
     "output_type": "display_data"
    },
    {
     "data": {
      "text/plain": []
     },
     "execution_count": 19,
     "metadata": {},
     "output_type": "execute_result"
    }
   ],
   "source": [
    "view = gr.Interface(\n",
    "    fn=ask_llama, \n",
    "    inputs=[gr.Textbox(label=\"Your message:\",lines=6)],\n",
    "    outputs=[gr.Textbox(label=\"Llama3.2 response:\",lines=8)],\n",
    "    title=\"Ollama Chat with Llama3.2\",\n",
    "    description=\"Chat with Llama3.2 model using Ollama API\",\n",
    "    flagging_mode=\"never\")\n",
    "view.launch()"
   ]
  },
  {
   "cell_type": "code",
   "execution_count": 27,
   "id": "22d1985b",
   "metadata": {},
   "outputs": [],
   "source": [
    "system_message = \"You are a helpful assistant that responds in markdown\"\n",
    "def stream_llama(promt, model=\"llama3.2\"):\n",
    "    response = ollama.chat(\n",
    "        model=model,\n",
    "        messages=[\n",
    "            {\"role\": \"user\", \"content\": promt}\n",
    "        ],\n",
    "        stream=True\n",
    "    )\n",
    "    content = \"\"\n",
    "    for chunk in response:\n",
    "        content+= chunk[\"message\"][\"content\"]\n",
    "        yield content"
   ]
  },
  {
   "cell_type": "code",
   "execution_count": 28,
   "id": "04d490d5",
   "metadata": {},
   "outputs": [
    {
     "name": "stdout",
     "output_type": "stream",
     "text": [
      "* Running on local URL:  http://127.0.0.1:7867\n",
      "* To create a public link, set `share=True` in `launch()`.\n"
     ]
    },
    {
     "data": {
      "text/html": [
       "<div><iframe src=\"http://127.0.0.1:7867/\" width=\"100%\" height=\"500\" allow=\"autoplay; camera; microphone; clipboard-read; clipboard-write;\" frameborder=\"0\" allowfullscreen></iframe></div>"
      ],
      "text/plain": [
       "<IPython.core.display.HTML object>"
      ]
     },
     "metadata": {},
     "output_type": "display_data"
    },
    {
     "data": {
      "text/plain": []
     },
     "execution_count": 28,
     "metadata": {},
     "output_type": "execute_result"
    }
   ],
   "source": [
    "view= gr.Interface(\n",
    "    fn=stream_llama,\n",
    "    inputs=[gr.Textbox(label=\"Your message:\",lines=6)],\n",
    "    outputs=[gr.Textbox(label=\"Llama3.2 response:\",lines=8)],\n",
    "    title=\"Ollama Chat with Llama3.2\",\n",
    "    description=\"Chat with Llama3.2 model using Ollama API\",\n",
    "    flagging_mode=\"never\"\n",
    ")\n",
    "view.launch()"
   ]
  },
  {
   "cell_type": "code",
   "execution_count": 29,
   "id": "8860269a",
   "metadata": {},
   "outputs": [],
   "source": [
    "class Website:\n",
    "    url: str\n",
    "    title: str\n",
    "    text: str\n",
    "\n",
    "    def __init__(self, url):\n",
    "        self.url = url\n",
    "        response = requests.get(url)\n",
    "        self.body = response.content\n",
    "        self.soup = BeautifulSoup(self.body, 'html.parser')\n",
    "        self.title=self.soup.title.string if self.soup.title else 'No Title'\n",
    "        for irrelevant in self.soup(['script', 'style']):\n",
    "            irrelevant.decompose()\n",
    "\n",
    "        self.text = self.soup.get_text(separator=' ', strip=True)\n",
    "\n",
    "    def get_text(self):\n",
    "        return f\"Website Title: {self.title}\\n\\nContent: {self.text[:500]}...\"  # İlk 500 karakteri döndür  \n",
    "       \n"
   ]
  },
  {
   "cell_type": "code",
   "execution_count": 30,
   "id": "a1873370",
   "metadata": {},
   "outputs": [],
   "source": [
    "def stream_brochure(company_name,url, model=\"llama3.2\"):\n",
    "    yield \"\"\n",
    "    promt = f\"Write a detailed brochure for the company named {company_name} based on the following website content:\\n\\n{Website(url).get_text()}\"\n",
    "    if model==\"llama3.2\":\n",
    "        result = stream_llama(promt, model=model)\n",
    "    elif model==\"llama3.2\":\n",
    "        result = stream_llama(promt, model=model)\n",
    "    else:\n",
    "        raise ValueError(\"Unsupported model\")\n",
    "    yield from result\n"
   ]
  },
  {
   "cell_type": "code",
   "execution_count": 34,
   "id": "150c2800",
   "metadata": {},
   "outputs": [
    {
     "name": "stdout",
     "output_type": "stream",
     "text": [
      "* Running on local URL:  http://127.0.0.1:7868\n",
      "* To create a public link, set `share=True` in `launch()`.\n"
     ]
    },
    {
     "data": {
      "text/html": [
       "<div><iframe src=\"http://127.0.0.1:7868/\" width=\"100%\" height=\"500\" allow=\"autoplay; camera; microphone; clipboard-read; clipboard-write;\" frameborder=\"0\" allowfullscreen></iframe></div>"
      ],
      "text/plain": [
       "<IPython.core.display.HTML object>"
      ]
     },
     "metadata": {},
     "output_type": "display_data"
    },
    {
     "data": {
      "text/plain": []
     },
     "execution_count": 34,
     "metadata": {},
     "output_type": "execute_result"
    }
   ],
   "source": [
    "view= gr.Interface(\n",
    "    fn=stream_brochure,\n",
    "    inputs=[gr.Textbox(label=\"Company Name\"),\n",
    "            gr.Textbox(label=\"Website URL\"),\n",
    "            gr.Dropdown(choices=[\"llama3.2\",\"llama3.2\"], label=\"Model\", value=\"llama3.2\")],\n",
    "    outputs=[gr.Markdown(label=\"Brochure:\")],\n",
    "    title=\"Brochure Generator with Ollama\",\n",
    "    description=\"Generate a company brochure based on website content using Ollama models\",\n",
    "    flagging_mode=\"never\"\n",
    ")\n",
    "view.launch()"
   ]
  },
  {
   "cell_type": "code",
   "execution_count": null,
   "id": "4f8e1bfb",
   "metadata": {},
   "outputs": [],
   "source": []
  }
 ],
 "metadata": {
  "kernelspec": {
   "display_name": "Python 3.12.10",
   "language": "python",
   "name": "py312"
  },
  "language_info": {
   "codemirror_mode": {
    "name": "ipython",
    "version": 3
   },
   "file_extension": ".py",
   "mimetype": "text/x-python",
   "name": "python",
   "nbconvert_exporter": "python",
   "pygments_lexer": "ipython3",
   "version": "3.12.10"
  }
 },
 "nbformat": 4,
 "nbformat_minor": 5
}
