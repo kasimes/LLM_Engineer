{
 "cells": [
  {
   "cell_type": "code",
   "execution_count": 1,
   "id": "f69c6a85",
   "metadata": {},
   "outputs": [],
   "source": [
    "# İmports\n",
    "import requests\n",
    "from bs4 import BeautifulSoup\n",
    "from IPython.display import display, Markdown\n",
    "import ollama\n"
   ]
  },
  {
   "cell_type": "code",
   "execution_count": 2,
   "id": "36057010",
   "metadata": {},
   "outputs": [],
   "source": [
    "MODEL = \"llama3.2\"\n"
   ]
  },
  {
   "cell_type": "code",
   "execution_count": 3,
   "id": "23de30f3",
   "metadata": {},
   "outputs": [],
   "source": [
    "class Website:\n",
    "    url: str\n",
    "    title: str\n",
    "    text: str\n",
    "\n",
    "    def __init__(self, url):\n",
    "        self.url = url\n",
    "        response = requests.get(url)\n",
    "        soup=BeautifulSoup(response.content, \"html.parser\")\n",
    "        self.title = soup.title.string if soup.title else \"No Title Found\"\n",
    "        for irrelevant in soup.body(['script', 'style', 'header', 'footer', 'nav', 'aside']):\n",
    "            irrelevant.decompose()\n",
    "        self.text = soup.body.get_text(separator=\"/n\",strip=True)  # Limit to first 2000 characters    "
   ]
  },
  {
   "cell_type": "code",
   "execution_count": 5,
   "id": "e5ee89ce",
   "metadata": {},
   "outputs": [
    {
     "name": "stdout",
     "output_type": "stream",
     "text": [
      "Anasayfa | Depo Next - Güvenli Depolama Çözümleri\n",
      "Eşyalarınız İçin Güvenli ve Kolay Depolama Çözümü/nKendinize Özel Depolama Alanınızı Oluşturun/nTeklif Al/nDepoNext/nKişiye Özel Depo Kiralama/n7/24/nAşama 1/nBeklentiler dinlenir,/noperasyon hakkında bilgilendirilir./nDepolanacak eşya veya ürünlerin detayına göre operasyon hakkında bilgilendirilir. Eşya veya ürünlerin nasıl taşınacağı, depolama alanı gibi detaylar konuşulur/nAşama 2/nİhtiyaca uygun,/nteklif verilir./nDepolanacak eşyaların veya ürünlerin durumu göz önünde bulundurularak teklif verilir. Teklifte hem depo ücreti hem de taşıma ücreti belirtilir/nAşama 3/nEşyalar taşınmaya ve,/ndepolanmaya hazır./nEşyalar belirtildiği gibi paketlenir ve depoya taşınır. Eşyaların depolanma sürecinde paketleme malzemeleri eşyaların üzerinde kalır./nAşama 4/nEşyalarınız size özel,/noda deponuzda güvende./nEşyalarınızı görebileceğiniz, size özel bir alana yerleştirildi ve güvende. İçiniz rahat olabilir. Konteyner çözümünde de size özel bir alanda eşyalarınız muhafaza edilmektedir./nADRES/nGayrettepe, Vefabey Sokağı 25/1, 34349 Beşiktaş/İstanbul/nİLETİŞİM/ninfo@deponext.com/n+90 537 323 43 43/nHarita'dan gör/nİLETİŞİM/nADRES/nGayrettepe, Vefabey Sokağı 25/1, 34349 Beşiktaş/İstanbul/ninfo@deponext.com/n+90 537 323 43 43/nHarita'dan gör/nMerkezî Konumda, Kolay Erişim!/nDepomuz, İstanbul’un kalbinde yer alan Gayrettepe Mahallesi, Vefabey Sokak, Say Apartmanı B Blok No:25 İç Kapı No:1, Beşiktaş adresindedir./nZorlu Center, Kanyon AVM, Levent, Şişli ve Mecidiyeköy gibi İstanbul’un önemli merkezlerine oldukça yakın konumda bulunuyoruz./nToplu taşıma araçlarıyla kolayca ulaşılabilen lokasyonumuz sayesinde, eşyalarınıza her zaman hızlı ve zahmetsiz bir şekilde erişebilirsiniz./nDepo kiralama sürecinde hem güvenli hem de ulaşımı kolay bir lokasyon arıyorsanız, doğru yerdesiniz!/nMüşterilerimizin güvenini kazandık/nTürkiye genelinde binlerce kişi ve işletmeye güvenli depolama ve taşıma hizmeti sağlıyoruz./nBaşarılı taşınma/n5.000+/nAktif depo alanı (m²)/n12.000/nMüşteri memnuniyeti/n%\n"
     ]
    }
   ],
   "source": [
    "deponext=Website(\"https://deponext.com.tr/\")\n",
    "print(deponext.title)\n",
    "print(deponext.text[:2000])"
   ]
  },
  {
   "cell_type": "code",
   "execution_count": 6,
   "id": "aafff12f",
   "metadata": {},
   "outputs": [],
   "source": [
    "system_prompt = \"You are an assistant that analyzes the contents of a website \\\n",
    "and provides a short summary, ignoring text that might be navigation related. \\\n",
    "Respond in markdown.\""
   ]
  },
  {
   "cell_type": "code",
   "execution_count": 7,
   "id": "10a144c2",
   "metadata": {},
   "outputs": [],
   "source": [
    "def user_prompt_for(website):\n",
    "    user_prompt = f\"You are looking at a website titled {website.title}\"\n",
    "    user_prompt += \"The contents of this website is as follows; \\\n",
    "please provide a short summary of this website in markdown. \\\n",
    "If it includes news or announcements, then summarize these too.\\n\\n\"\n",
    "    user_prompt += website.text\n",
    "    return user_prompt"
   ]
  },
  {
   "cell_type": "code",
   "execution_count": 8,
   "id": "efc857db",
   "metadata": {},
   "outputs": [],
   "source": [
    "\n",
    "# See how this function creates exactly the format above\n",
    "\n",
    "def messages_for(website):\n",
    "    return [\n",
    "        {\"role\": \"system\", \"content\": system_prompt},\n",
    "        {\"role\": \"user\", \"content\": user_prompt_for(website)}\n",
    "    ]"
   ]
  },
  {
   "cell_type": "code",
   "execution_count": 9,
   "id": "35468450",
   "metadata": {},
   "outputs": [],
   "source": [
    "def summarize_website(url):\n",
    "    website=Website(url)\n",
    "    messages = messages_for(website)\n",
    "    response = ollama.chat(model=MODEL, messages=messages)\n",
    "    display(Markdown(response['message']['content']))"
   ]
  },
  {
   "cell_type": "code",
   "execution_count": 10,
   "id": "75144a4e",
   "metadata": {},
   "outputs": [
    {
     "data": {
      "text/markdown": [
       "**Depo Next | Güvenli Depolama Çözümleri**\n",
       "=============================================\n",
       "\n",
       "Depo Next, Türkiye'de güvenli ve Kolay Depolama Çözümleri sunan bir şirketdir. Şirket, personele özel depolama alanını oluşturmak ve eşyaları güvenli ve kolayca depolamak isteyen kişilere hizmet vermektedir.\n",
       "\n",
       "**Hizmetler**\n",
       "------------\n",
       "\n",
       "*   Personelene Özel Depolama Alanı\n",
       "*   7/24 Hizmet\n",
       "*   Teklif Alma\n",
       "*  Depolanacak Eşyanın Detayına Göre Operasyon Haklı\n",
       "*   İhtiyaca Uygunning, Tökelif Verilmesi\n",
       "*   Eşyaların Demontesi, Paketlenmesi, Taşınma ve Depolanması\n",
       "\n",
       "**Müşteri Đeğrilikleri**\n",
       "-------------------------\n",
       "\n",
       "*   Müşteri Memnuniyeti %98\n",
       "*   Şehirleriçi Hizmet\n",
       "*   Aktif Depo Alanı 12.000 m²\n",
       "*   Mühendislik ve İşletme Faaliyetleri\n",
       "\n",
       "**İletişim**\n",
       "-------------\n",
       "\n",
       "*   Address: Gayrettepe, Vefabey Sokağı 25/1, 34349 Beşiktaş/İstanbul\n",
       "*   Phone: +90 537 323 43 43\n",
       "*   Email: info@deponext.com"
      ],
      "text/plain": [
       "<IPython.core.display.Markdown object>"
      ]
     },
     "metadata": {},
     "output_type": "display_data"
    }
   ],
   "source": [
    "summarize_website(\"https://deponext.com.tr/\")"
   ]
  },
  {
   "cell_type": "code",
   "execution_count": 11,
   "id": "c2c83ccc",
   "metadata": {},
   "outputs": [],
   "source": [
    "def display_summary(url):\n",
    "    summary=summarize_website(url)\n",
    "    display(Markdown(summary))"
   ]
  },
  {
   "cell_type": "code",
   "execution_count": 12,
   "id": "d6476e05",
   "metadata": {},
   "outputs": [
    {
     "data": {
      "text/markdown": [
       "**Güvenli Depolama Çözümleri - DepoNext**\n",
       "\n",
       "DpoNext, Türkiye'de binlerce kişi ve işletmeye güvenilen güvenli depolama ve taşıma hizmeti sunuyor. Şikayetlerin %98'i memnun kalınan service dengan modern konteyner çözümünde size özel alanlara yerendir.\n",
       "\n",
       "**Kriterler:**\n",
       "\n",
       "- **Güvenli**: Müşterilerimizin güvenini kazandık.\n",
       "- **Modern Konteyner Çözümü**: Modern konteyner çözümü ile eşylerin demontesi, paketlenmesi, taşınması ve depolanması.\n",
       "- **Etkin Service**: Her aşama boyunca bilgilendirildik. Ekipin ilgisi ve profesyonelliği harika oldu.\n",
       "- **Temiz ve Güvenli Alanlar**: Depolama alanları sạch ve güvenlidir.\n",
       "\n",
       "**Tavsiye:**\n",
       "\n",
       "DepoNext sizler için her şeyi düşündük. Siz rahat bir nefes alabilirsiniz. Her şeyden daha fazlasını öğrenin!"
      ],
      "text/plain": [
       "<IPython.core.display.Markdown object>"
      ]
     },
     "metadata": {},
     "output_type": "display_data"
    },
    {
     "data": {
      "text/plain": [
       "<IPython.core.display.Markdown object>"
      ]
     },
     "metadata": {},
     "output_type": "display_data"
    }
   ],
   "source": [
    "display_summary(\"https://deponext.com.tr/\")"
   ]
  },
  {
   "cell_type": "code",
   "execution_count": null,
   "id": "a38c4eb2",
   "metadata": {},
   "outputs": [],
   "source": []
  }
 ],
 "metadata": {
  "kernelspec": {
   "display_name": "base",
   "language": "python",
   "name": "python3"
  },
  "language_info": {
   "codemirror_mode": {
    "name": "ipython",
    "version": 3
   },
   "file_extension": ".py",
   "mimetype": "text/x-python",
   "name": "python",
   "nbconvert_exporter": "python",
   "pygments_lexer": "ipython3",
   "version": "3.12.7"
  }
 },
 "nbformat": 4,
 "nbformat_minor": 5
}
