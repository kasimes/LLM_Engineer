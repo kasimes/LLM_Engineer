{
 "cells": [
  {
   "cell_type": "code",
   "execution_count": 1,
   "id": "f69c6a85",
   "metadata": {},
   "outputs": [],
   "source": [
    "# İmports\n",
    "import requests\n",
    "from bs4 import BeautifulSoup\n",
    "from IPython.display import display, Markdown\n",
    "import ollama\n"
   ]
  },
  {
   "cell_type": "code",
   "execution_count": 10,
   "id": "36057010",
   "metadata": {},
   "outputs": [],
   "source": [
    "MODEL = \"llama3.2\"\n"
   ]
  },
  {
   "cell_type": "code",
   "execution_count": 2,
   "id": "23de30f3",
   "metadata": {},
   "outputs": [],
   "source": [
    "# class Website:\n",
    "#     url: str\n",
    "#     title: str\n",
    "#     text: str\n",
    "\n",
    "#     def __init__(self, url):\n",
    "#         self.url = url\n",
    "#         response = requests.get(url)\n",
    "#         soup=BeautifulSoup(response.content, \"html.parser\")\n",
    "#         self.title = soup.title.string if soup.title else \"No Title Found\"\n",
    "#         for irrelevant in soup.body(['script', 'style', 'header', 'footer', 'nav', 'aside']):\n",
    "#             irrelevant.decompose()\n",
    "#         self.text = soup.body.get_text(separator=\"/n\",strip=True)  # Limit to first 2000 characters    "
   ]
  },
  {
   "cell_type": "code",
   "execution_count": 3,
   "id": "f4d89a07",
   "metadata": {},
   "outputs": [],
   "source": [
    "import requests\n",
    "from bs4 import BeautifulSoup\n",
    "from urllib.parse import urljoin\n",
    "\n",
    "class Website:\n",
    "    def __init__(self, url):\n",
    "        self.url = url\n",
    "        self.response = requests.get(url)\n",
    "        self.soup = BeautifulSoup(self.response.content, \"html.parser\")\n",
    "\n",
    "        # Temel bilgiler\n",
    "        self.title = self.soup.title.string if self.soup.title else \"No Title Found\"\n",
    "        self.meta_description = self.soup.find(\"meta\", attrs={\"name\": \"description\"})\n",
    "        self.meta_description = self.meta_description[\"content\"] if self.meta_description else \"No Description\"\n",
    "        self.meta_keywords = self.soup.find(\"meta\", attrs={\"name\": \"keywords\"})\n",
    "        self.meta_keywords = self.meta_keywords[\"content\"] if self.meta_keywords else \"No Keywords\"\n",
    "        \n",
    "        # H1-H6 başlıklar\n",
    "        self.headings = {f\"h{i}\": [h.get_text(strip=True) for h in self.soup.find_all(f\"h{i}\")] for i in range(1,7)}\n",
    "        \n",
    "        # Body text (temizlenmiş)\n",
    "        if self.soup.body:\n",
    "            for irrelevant in self.soup.body(['script', 'style', 'header', 'footer', 'nav', 'aside']):\n",
    "                irrelevant.decompose()\n",
    "            self.text = self.soup.body.get_text(separator=\"\\n\", strip=True)\n",
    "        else:\n",
    "            self.text = \"\"\n",
    "        \n",
    "        # Linkler\n",
    "        self.links = []\n",
    "        for a in self.soup.find_all('a', href=True):\n",
    "            self.links.append(urljoin(self.url, a['href']))\n",
    "        \n",
    "        # Görseller ve alt metinleri\n",
    "        self.images = []\n",
    "        for img in self.soup.find_all('img'):\n",
    "            src = urljoin(self.url, img.get('src', ''))\n",
    "            alt = img.get('alt', '')\n",
    "            self.images.append({'src': src, 'alt': alt})\n",
    "        \n",
    "        # Kelime sayısı\n",
    "        self.word_count = len(self.text.split())\n",
    "\n",
    "    def summary(self):\n",
    "        return {\n",
    "            \"url\": self.url,\n",
    "            \"title\": self.title,\n",
    "            \"meta_description\": self.meta_description,\n",
    "            \"meta_keywords\": self.meta_keywords,\n",
    "            \"headings\": self.headings,\n",
    "            \"word_count\": self.word_count,\n",
    "            \"links_count\": len(self.links),\n",
    "            \"images_count\": len(self.images)\n",
    "        }\n"
   ]
  },
  {
   "cell_type": "code",
   "execution_count": 17,
   "id": "e5ee89ce",
   "metadata": {},
   "outputs": [
    {
     "data": {
      "text/plain": [
       "{'url': 'https://deponext.com.tr/',\n",
       " 'title': 'Anasayfa | Depo Next - Güvenli Depolama Çözümleri',\n",
       " 'meta_description': 'Depo Next, eşyalarınızı güvenle ve kolaylıkla depolamanız için modern ve esnek depolama alanları sunar. İhtiyacınıza uygun, ekonomik ve güvenli depolama çözümleri ile size en iyi hizmeti vermeyi amaçlıyoruz.',\n",
       " 'meta_keywords': 'Depo Next,güvenli depo,eşya depolama,kolay depo kiralama,esnek depolama alanları,depola,depo hizmetleri',\n",
       " 'headings': {'h1': ['DepoNext'],\n",
       "  'h2': ['Eşyalarınız İçin Güvenli ve Kolay Depolama Çözümü',\n",
       "   'İLETİŞİM',\n",
       "   'Merkezî Konumda, Kolay Erişim!',\n",
       "   'Müşterilerimizin güvenini kazandık',\n",
       "   'Müşteri Yorumları',\n",
       "   'Sizler içinher şeyi düşündük.Sizrahat bir nefes alabilirsiniz.',\n",
       "   'Depolarımızın Bulunduğu İstanbul İlçeleri',\n",
       "   'Sıkça Sorulan Sorular',\n",
       "   'DepoNext'],\n",
       "  'h3': ['Beklentiler dinlenir,',\n",
       "   'operasyon hakkında bilgilendirilir.',\n",
       "   'İhtiyaca uygun,',\n",
       "   'teklif verilir.',\n",
       "   'Eşyalar taşınmaya ve,',\n",
       "   'depolanmaya hazır.',\n",
       "   'Eşyalarınız size özel,',\n",
       "   'oda deponuzda güvende.',\n",
       "   'ADRES',\n",
       "   'İLETİŞİM',\n",
       "   'ADRES',\n",
       "   'DepoNext Hakkında',\n",
       "   'Eşyalarım nasıl taşınıyor?',\n",
       "   'Depolama süresi ne kadar olabilir?',\n",
       "   'Depo alanları güvenli mi?',\n",
       "   'Depolama ücretleri nasıl belirleniyor?',\n",
       "   'Depolanan eşyaları tekrar nasıl alabilirim?',\n",
       "   'Hızlı Linkler',\n",
       "   'İletişim',\n",
       "   'Bizi Takip Edin'],\n",
       "  'h4': [],\n",
       "  'h5': ['Ayşe Yılmaz', 'Mehmet Kara', 'Kasım Demir', 'Burak Şahin'],\n",
       "  'h6': []},\n",
       " 'word_count': 386,\n",
       " 'links_count': 16,\n",
       " 'images_count': 8}"
      ]
     },
     "execution_count": 17,
     "metadata": {},
     "output_type": "execute_result"
    }
   ],
   "source": [
    "deponext=Website(\"https://deponext.com.tr/\")\n",
    "deponext_summary = deponext.summary()\n",
    "deponext_summary"
   ]
  },
  {
   "cell_type": "code",
   "execution_count": 5,
   "id": "aafff12f",
   "metadata": {},
   "outputs": [],
   "source": [
    "system_prompt = \"You are an assistant that analyzes the contents of a website \\\n",
    "and provides a short summary, ignoring text that might be navigation related. \\\n",
    "Respond in markdown.\""
   ]
  },
  {
   "cell_type": "code",
   "execution_count": 6,
   "id": "10a144c2",
   "metadata": {},
   "outputs": [],
   "source": [
    "def user_prompt_for(website):\n",
    "    user_prompt = f\"You are looking at a website titled {website.title}\"\n",
    "    user_prompt += \"The contents of this website is as follows; \\\n",
    "please provide a short summary of this website in markdown. \\\n",
    "If it includes news or announcements, then summarize these too.\\n\\n\"\n",
    "    user_prompt += website.text\n",
    "    return user_prompt"
   ]
  },
  {
   "cell_type": "code",
   "execution_count": 7,
   "id": "efc857db",
   "metadata": {},
   "outputs": [],
   "source": [
    "\n",
    "# See how this function creates exactly the format above\n",
    "\n",
    "def messages_for(website):\n",
    "    return [\n",
    "        {\"role\": \"system\", \"content\": system_prompt},\n",
    "        {\"role\": \"user\", \"content\": user_prompt_for(website)}\n",
    "    ]"
   ]
  },
  {
   "cell_type": "code",
   "execution_count": 11,
   "id": "35468450",
   "metadata": {},
   "outputs": [],
   "source": [
    "def summarize_website(url):\n",
    "    website=Website(url)\n",
    "    messages = messages_for(website)\n",
    "    response = ollama.chat(model=MODEL, messages=messages)\n",
    "    display(Markdown(response['message']['content']))"
   ]
  },
  {
   "cell_type": "code",
   "execution_count": 12,
   "id": "75144a4e",
   "metadata": {},
   "outputs": [
    {
     "data": {
      "text/markdown": [
       "# Anasayfa | Depo Next - Güvenli Depolama Çözümleri\n",
       "\n",
       "**Kısa Özet**\n",
       "\n",
       "DepoNext, Istanbul'da bulunan bir depolama şirketidir. Kendinize özel depolama alanlarını oluşturmak ve eşylerinizi güvenli ve kolayca depolamak isteyen personasalla hizmet vermektedir.\n",
       "\n",
       "### Haberler ve Bilgiler\n",
       "\n",
       "*   **Eşyalarınız İçin Güvenli ve Kolay Depolama Çözümü**: Kendinize özel depolama alanınızı oluşturun ve Eşyelerinize güvenli bir şekilde depolama hizmeti alabilirsiniz.\n",
       "*   **Depo Kiralama**: İhtiyaca uygun, teklif verilir. Depolanacak eşyaların veya ürünlerin durumu göz önünde bulundurularak teklif verilir.\n",
       "*   **Eşyalarınız Size Özel, Oda Deponuzda Güvende**: Eşyaları size özel bir alanda yerleştirildi ve güvende.\n",
       "*   **ADRES**: Gayrettepe, Vefabey Sokağı 25/1, 34349 Beşiktaş/İstanbul\n",
       "*   **İLETİŞİM**: info@deponext.com, +90 537 323 43 43\n",
       "*   **Harita'dan Gör**\n",
       "\n",
       "### Merak Edilen Sorular\n",
       "\n",
       "*   Eşyalarınız nasıl taşınıyor?\n",
       "*   Depolama süresi ne kadar olabilir?\n",
       "*   Depo alanları güvenli mi?\n",
       "*   Depolama ücretleri nasıl belirleniyor?\n",
       "*   Depolanmış eşyaları tekrar nasıl alabilirim?\n",
       "\n",
       "### Hizmetler\n",
       "\n",
       "*   Kök Depolama\n",
       "*   Koli Depolama\n",
       "*   Yürükli Koli Depolama\n",
       "*   Taşıma\n",
       "*   Paketleme\n",
       "*   Konteyner Depolama"
      ],
      "text/plain": [
       "<IPython.core.display.Markdown object>"
      ]
     },
     "metadata": {},
     "output_type": "display_data"
    }
   ],
   "source": [
    "summarize_website(\"https://deponext.com.tr/\")"
   ]
  },
  {
   "cell_type": "code",
   "execution_count": 13,
   "id": "c2c83ccc",
   "metadata": {},
   "outputs": [],
   "source": [
    "def display_summary(url):\n",
    "    summary=summarize_website(url)\n",
    "    display(Markdown(summary))"
   ]
  },
  {
   "cell_type": "code",
   "execution_count": 14,
   "id": "d6476e05",
   "metadata": {},
   "outputs": [
    {
     "data": {
      "text/markdown": [
       "# DepoNext Anasayfa\n",
       "## Güvenli ve Kolay Depolama Çözümü\n",
       "\n",
       "DepoNext, Türkiye'de binlerce kişi ve işletmeye güvenli depolama ve taşıma hizmetleri sunuyor. \n",
       "\n",
       "### Başarılar\n",
       "- 5.000+ active storage alanları\n",
       "- 12.000+ aktif depo alanı (m²)\n",
       "- %98+ müşteri memnuniyeti\n",
       "\n",
       "### Hizmetler\n",
       "- Kişiye özel depolama alanları\n",
       "- Eşyalarınızı güvenli ve modern bir şekilde saklayın\n",
       "- Erişim kolaylığı ve şehir merkezleri nearness\n",
       "\n",
       "### Müşteri Yorumları\n",
       "- \"Eşyalarımız zamanında alındı ve profesyonelce depoya yerleştirildi. Her şey mükemmeldi!\" - Ayşe Yılmaz (İstanbul)\n",
       "- \"Depolama süreci boyunca her aşamada bilgilendirildim. Çok güven verici bir hizmet.\" - Mehmet Kara (Ankara)\n",
       "- \"Taşınma stresini tamamen ortadan kaldırdılar. Ekibin ilgisi ve profesyonelliği harikaydı.\" - Kasım Demir (İzmir)\n",
       "\n",
       "### Güvenli Lokasyon\n",
       "- İstanbul'un kalbinde yer alan Gayrettepe Mahallesi, Vefabey Sokak, Say Apartmani B Blok No:25 İç Kapı No:1, Beşiktaş\n",
       "\n",
       "### İletişim\n",
       "- Adres: info@deponext.com, +90 537 323 43 43\n",
       "- Harita'dan gör"
      ],
      "text/plain": [
       "<IPython.core.display.Markdown object>"
      ]
     },
     "metadata": {},
     "output_type": "display_data"
    },
    {
     "data": {
      "text/plain": [
       "<IPython.core.display.Markdown object>"
      ]
     },
     "metadata": {},
     "output_type": "display_data"
    }
   ],
   "source": [
    "display_summary(\"https://deponext.com.tr/\")"
   ]
  },
  {
   "cell_type": "code",
   "execution_count": null,
   "id": "a38c4eb2",
   "metadata": {},
   "outputs": [],
   "source": []
  }
 ],
 "metadata": {
  "kernelspec": {
   "display_name": "base",
   "language": "python",
   "name": "python3"
  },
  "language_info": {
   "codemirror_mode": {
    "name": "ipython",
    "version": 3
   },
   "file_extension": ".py",
   "mimetype": "text/x-python",
   "name": "python",
   "nbconvert_exporter": "python",
   "pygments_lexer": "ipython3",
   "version": "3.12.7"
  }
 },
 "nbformat": 4,
 "nbformat_minor": 5
}
